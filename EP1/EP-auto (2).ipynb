{
 "cells": [
  {
   "cell_type": "code",
   "execution_count": 2,
   "metadata": {},
   "outputs": [],
   "source": [
    "import numpy as np\n",
    "import matplotlib.pyplot as plt\n",
    "import cv2\n",
    "from tensorflow import keras\n",
    "from scipy import ndimage\n",
    "import math\n",
    "from scipy import signal"
   ]
  },
  {
   "cell_type": "markdown",
   "metadata": {},
   "source": [
    "**AJUSTANDO O TAMANHO DA IMAGEM**"
   ]
  },
  {
   "cell_type": "code",
   "execution_count": 44,
   "metadata": {},
   "outputs": [],
   "source": [
    "def acha_template(template,amostra):\n",
    "    resized_imagem = cv2.resize(amostra,(1150,210),interpolation = cv2.INTER_LINEAR) \n",
    "    resized_template = cv2.resize(template,(1050,210),interpolation = cv2.INTER_LINEAR)\n",
    "    mask = mascara_canhoto(resized_imagem) #CRIA A MASCARA \n",
    "    mask_template = mascara_template(resized_template)\n",
    "    fator_shift,img_shift = translacao(mask_template,mask)\n",
    "    max_tp = 0 #VARIAVEL DE INICIALIZAÇÃO PARA PEGAR O MAIOR VALOR DE CORRELAÇÃO\n",
    "    fator_escala = 0 #FATOR DE CORREÇÃO DE ESCALA\n",
    "    w, h = mask_template.shape[:2] \n",
    "    for ajuste_escala in np.linspace(0.88,1.1,30):\n",
    "        novo_w = int(np.ceil(ajuste_escala*w))\n",
    "        novo_h = int(np.ceil(ajuste_escala*h))\n",
    "        resized_image = cv2.resize(img_shift,(novo_h,novo_w),interpolation = cv2.INTER_LINEAR)\n",
    "        img_rotacionada,fator_de_rot = rotaciona(mask_template,resized_image)\n",
    "        tp = cv2.matchTemplate(img_rotacionada,mask_template,cv2.TM_CCOEFF_NORMED)\n",
    "        if tp.max() > max_tp:\n",
    "            max_tp = tp.max()\n",
    "            best_rescale = resized_image\n",
    "            fator_escala = ajuste_escala\n",
    "    return max_tp, fator_escala,fator_de_rot"
   ]
  },
  {
   "cell_type": "markdown",
   "metadata": {},
   "source": [
    "**FAZENDO A TRANSLAÇÃO**"
   ]
  },
  {
   "cell_type": "code",
   "execution_count": 45,
   "metadata": {},
   "outputs": [],
   "source": [
    "def translacao(template,imagem):\n",
    "    num_rows, num_cols = imagem.shape[:2]\n",
    "    max_tm = 0\n",
    "    fator_shifting = 0\n",
    "    best_translacao = imagem\n",
    "    for fator_shift in range(0,num_cols):\n",
    "        translation_matrix = np.float32([[1,0,fator_shift], [0,1,0]])\n",
    "        matriz_translada = cv2.warpAffine(imagem, translation_matrix, (num_cols,num_rows))\n",
    "        tm = cv2.matchTemplate(matriz_translada,template,cv2.TM_CCOEFF_NORMED)\n",
    "        if tm.max() > max_tm:\n",
    "            max_tm = tm.max()\n",
    "            best_translacao = matriz_translada\n",
    "            fator_shifting = fator_shift\n",
    "    return fator_shifting,best_translacao"
   ]
  },
  {
   "cell_type": "markdown",
   "metadata": {},
   "source": [
    "**REALIZA A ROTAÇÃO**"
   ]
  },
  {
   "cell_type": "code",
   "execution_count": 46,
   "metadata": {},
   "outputs": [],
   "source": [
    "def rotaciona(template,amostra):\n",
    "    max_tp = -3\n",
    "    w, h = amostra.shape[:2]\n",
    "    fator2 = 0\n",
    "    best_image = amostra \n",
    "    centro = (int(np.ceil(w/2)),int(np.ceil(h/2)))\n",
    "    for par_rot in np.linspace(-3,3,20):\n",
    "        rot_img = cv2.getRotationMatrix2D(centro,par_rot,1.0)\n",
    "        rotated = cv2.warpAffine(amostra, rot_img, (h, w))\n",
    "        tp = cv2.matchTemplate(rotated,template,cv2.TM_CCOEFF_NORMED)\n",
    "        if tp.max() > max_tp:\n",
    "            max_tp = tp.max()\n",
    "            best_image = rotated\n",
    "            fator2 = par_rot\n",
    "    return best_image, fator2"
   ]
  },
  {
   "cell_type": "markdown",
   "metadata": {},
   "source": [
    "**CRIA MASCARA**"
   ]
  },
  {
   "cell_type": "code",
   "execution_count": 47,
   "metadata": {},
   "outputs": [],
   "source": [
    "def mascara_canhoto(img):\n",
    "    hsv = cv2.cvtColor(img, cv2.COLOR_BGR2HSV)\n",
    "    lower_black_1 = np.array([0, 0, 0])\n",
    "    upper_black_1 = np.array([200, 200, 210])\n",
    "    mask = cv2.inRange(hsv, lower_black_1, upper_black_1)\n",
    "    return mask"
   ]
  },
  {
   "cell_type": "code",
   "execution_count": 48,
   "metadata": {},
   "outputs": [],
   "source": [
    "def mascara_template(img):\n",
    "    hsv = cv2.cvtColor(img, cv2.COLOR_BGR2HSV)\n",
    "    lower_black_1 = np.array([0, 0, 0])\n",
    "    upper_black_1 = np.array([0, 0, 10])\n",
    "    mask = cv2.inRange(hsv, lower_black_1, upper_black_1)\n",
    "    return mask"
   ]
  },
  {
   "cell_type": "markdown",
   "metadata": {},
   "source": [
    "**MOSTRA MAIOR CORRELAÇÃO**"
   ]
  },
  {
   "cell_type": "code",
   "execution_count": 49,
   "metadata": {},
   "outputs": [],
   "source": [
    "def maior_correlacao(var2,var3,var4,var):\n",
    "    if( (var2 > var3) and (var2>var4) ):\n",
    "        print(f\"template: {var},  maior correlação é do template 2\")\n",
    "    elif( (var3 > var2) and (var3 > var4) ):\n",
    "        print(f\"template: {var},  maior correlação é do template 3\")\n",
    "    elif( (var4 > var3) and (var4 > var2) ):\n",
    "        print(f\"template: {var},  maior correlação é do template 4\")\n",
    "    "
   ]
  },
  {
   "cell_type": "code",
   "execution_count": 50,
   "metadata": {},
   "outputs": [
    {
     "name": "stdout",
     "output_type": "stream",
     "text": [
      "template: 2,  maior correlação é do template 2\n",
      "corr2: 0.4112885296344757\n",
      "corr3: 0.1689312756061554\n",
      "corr4: 0.20860040187835693\n",
      "template: 2,  maior correlação é do template 2\n",
      "corr2: 0.4674333930015564\n",
      "corr3: 0.2124308943748474\n",
      "corr4: 0.21326085925102234\n",
      "template: 2,  maior correlação é do template 2\n",
      "corr2: 0.21362820267677307\n",
      "corr3: 0.1518198549747467\n",
      "corr4: 0.17322437465190887\n",
      "template: 2,  maior correlação é do template 2\n",
      "corr2: 0.3769210875034332\n",
      "corr3: 0.258441686630249\n",
      "corr4: 0.24722230434417725\n",
      "template: 2,  maior correlação é do template 4\n",
      "corr2: 0.11685974150896072\n",
      "corr3: 0.1948191076517105\n",
      "corr4: 0.23153777420520782\n",
      "template: 2,  maior correlação é do template 4\n",
      "corr2: 0.13917101919651031\n",
      "corr3: 0.22020801901817322\n",
      "corr4: 0.2390228807926178\n",
      "template: 2,  maior correlação é do template 3\n",
      "corr2: 0.21965010464191437\n",
      "corr3: 0.26708847284317017\n",
      "corr4: 0.2324843555688858\n",
      "template: 2,  maior correlação é do template 2\n",
      "corr2: 0.3989461660385132\n",
      "corr3: 0.1325773000717163\n",
      "corr4: 0.044905778020620346\n",
      "template: 3,  maior correlação é do template 3\n",
      "corr2: 0.04013042151927948\n",
      "corr3: 0.24376390874385834\n",
      "corr4: 0.21628881990909576\n",
      "template: 3,  maior correlação é do template 3\n",
      "corr2: 0.17267367243766785\n",
      "corr3: 0.45042356848716736\n",
      "corr4: 0.26733672618865967\n",
      "template: 3,  maior correlação é do template 3\n",
      "corr2: 0.13558056950569153\n",
      "corr3: 0.4636956751346588\n",
      "corr4: 0.23916395008563995\n",
      "template: 4,  maior correlação é do template 4\n",
      "corr2: 0.06329157948493958\n",
      "corr3: 0.28589048981666565\n",
      "corr4: 0.4852479100227356\n",
      "template: 4,  maior correlação é do template 4\n",
      "corr2: 0.05111493542790413\n",
      "corr3: 0.11343643069267273\n",
      "corr4: 0.21423617005348206\n",
      "template: 4,  maior correlação é do template 4\n",
      "corr2: 0.07347254455089569\n",
      "corr3: 0.13197334110736847\n",
      "corr4: 0.24567486345767975\n",
      "template: 4,  maior correlação é do template 4\n",
      "corr2: 0.11695235222578049\n",
      "corr3: 0.1783977448940277\n",
      "corr4: 0.4022429287433624\n",
      "template: 4,  maior correlação é do template 4\n",
      "corr2: 0.05906049534678459\n",
      "corr3: 0.1216680109500885\n",
      "corr4: 0.3008910119533539\n",
      "template: 4,  maior correlação é do template 4\n",
      "corr2: 0.12361812591552734\n",
      "corr3: 0.21289090812206268\n",
      "corr4: 0.4082229435443878\n",
      "template: 4,  maior correlação é do template 4\n",
      "corr2: 0.08791699260473251\n",
      "corr3: 0.3096615672111511\n",
      "corr4: 0.47196388244628906\n",
      "template: 4,  maior correlação é do template 4\n",
      "corr2: 0.05794738605618477\n",
      "corr3: 0.2605558931827545\n",
      "corr4: 0.41700097918510437\n"
     ]
    }
   ],
   "source": [
    "for i in range(1,9):\n",
    "    var = 2\n",
    "    strin2 = \"m2_00\"+str(i)+\".jpg\"\n",
    "    amostra   = cv2.imread(strin2)\n",
    "    template2 = cv2.imread(\"m2.pgm\")\n",
    "    template3 = cv2.imread(\"m3.pgm\")\n",
    "    template4 = cv2.imread(\"m4.pgm\")\n",
    "    mask = mascara(amostra)\n",
    "    corr2, escala2,ang2= acha_template(template2,amostra);\n",
    "    corr3, escala3,ang3= acha_template(template3,amostra);\n",
    "    corr4, escala4,ang4= acha_template(template4,amostra);\n",
    "    maior_correlacao(corr2,corr3,corr4,var)\n",
    "    print(f\"corr2: {corr2}\")\n",
    "    print(f\"corr3: {corr3}\")\n",
    "    print(f\"corr4: {corr4}\")\n",
    "    #print(f\"ampliação2: {escala2}\")\n",
    "    #print(f\"ampliação3: {escala3}\")\n",
    "    #print(f\"ampliação4: {escala4}\")\n",
    "    #print(f\"angulo2: {ang2}\")\n",
    "    #print(f\"angulo3: {ang3}\")\n",
    "    #print(f\"angulo4: {ang4}\")\n",
    "for i in range(1,4):\n",
    "    var =3\n",
    "    strin3 = \"m3_00\"+str(i)+\".jpg\"\n",
    "    amostra   = cv2.imread(strin3)\n",
    "    template2 = cv2.imread(\"m2.pgm\")\n",
    "    template3 = cv2.imread(\"m3.pgm\")\n",
    "    template4 = cv2.imread(\"m4.pgm\")\n",
    "    mask = mascara(amostra)\n",
    "    corr2, escala2,ang2= acha_template(template2,amostra);\n",
    "    corr3, escala3,ang3= acha_template(template3,amostra);\n",
    "    corr4, escala4,ang4= acha_template(template4,amostra);\n",
    "    maior_correlacao(corr2,corr3,corr4,var)\n",
    "    print(f\"corr2: {corr2}\")\n",
    "    print(f\"corr3: {corr3}\")\n",
    "    print(f\"corr4: {corr4}\")\n",
    "    #print(f\"ampliação2: {escala2}\")\n",
    "    #print(f\"ampliação3: {escala3}\")\n",
    "    #print(f\"ampliação4: {escala4}\")\n",
    "    #print(f\"angulo2: {ang2}\")\n",
    "    #print(f\"angulo3: {ang3}\")\n",
    "    #print(f\"angulo4: {ang4}\")\n",
    "for i in range(1,9):\n",
    "    var = 4\n",
    "    strin4 = \"m4_00\"+str(i)+\".jpg\"\n",
    "    amostra   = cv2.imread(strin4)\n",
    "    template2 = cv2.imread(\"m2.pgm\")\n",
    "    template3 = cv2.imread(\"m3.pgm\")\n",
    "    template4 = cv2.imread(\"m4.pgm\")\n",
    "    mask = mascara(amostra)\n",
    "    corr2, escala2,ang2= acha_template(template2,amostra);\n",
    "    corr3, escala3,ang3= acha_template(template3,amostra);\n",
    "    corr4, escala4,ang4= acha_template(template4,amostra);\n",
    "    maior_correlacao(corr2,corr3,corr4,var)\n",
    "    print(f\"corr2: {corr2}\")\n",
    "    print(f\"corr3: {corr3}\")\n",
    "    print(f\"corr4: {corr4}\")\n",
    "    #print(f\"ampliação2: {escala2}\")\n",
    "    #print(f\"ampliação3: {escala3}\")\n",
    "    #print(f\"ampliação4: {escala4}\")\n",
    "    #print(f\"angulo2: {ang2}\")\n",
    "    #print(f\"angulo3: {ang3}\")\n",
    "    #print(f\"angulo4: {ang4}\")"
   ]
  },
  {
   "cell_type": "code",
   "execution_count": null,
   "metadata": {},
   "outputs": [],
   "source": []
  }
 ],
 "metadata": {
  "kernelspec": {
   "display_name": "Python 3",
   "language": "python",
   "name": "python3"
  },
  "language_info": {
   "codemirror_mode": {
    "name": "ipython",
    "version": 3
   },
   "file_extension": ".py",
   "mimetype": "text/x-python",
   "name": "python",
   "nbconvert_exporter": "python",
   "pygments_lexer": "ipython3",
   "version": "3.8.10"
  }
 },
 "nbformat": 4,
 "nbformat_minor": 4
}
